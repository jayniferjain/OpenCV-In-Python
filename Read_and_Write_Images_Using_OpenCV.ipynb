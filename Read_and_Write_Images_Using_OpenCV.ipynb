{
 "cells": [
  {
   "cell_type": "markdown",
   "metadata": {},
   "source": [
    "### OpenCV"
   ]
  },
  {
   "cell_type": "markdown",
   "metadata": {},
   "source": [
    "-> OpenCV stands for Open source Computer Vision, is an image processing library of programming functions mainly aimed at real-time computer vision. It was originally created by intel and later supported by Willow Garage and now maintained by Itseez.\n",
    "\n",
    "-> Avaiable on Mac, Windows, Linux, so it is a cross platform library. \n",
    "\n",
    "-> Works in C, C++, Python.\n",
    "\n",
    "-> Open Source and free.\n",
    "\n",
    "-> Easy to use and install"
   ]
  },
  {
   "cell_type": "markdown",
   "metadata": {},
   "source": [
    "### Image vs Matrix"
   ]
  },
  {
   "cell_type": "markdown",
   "metadata": {},
   "source": [
    "-> Digital images are typically stored in a matrix (PPI-Pixel Per Inch, how many individual pixel are present in an inch).\n",
    "\n",
    "-> There are many different file formats.\n",
    "\n",
    "-> There are two types of digital images\n",
    "i)  Gray-Scale Image (One channel)\n",
    "ii) Coloured Image (Three channels-RGB)"
   ]
  },
  {
   "cell_type": "markdown",
   "metadata": {},
   "source": [
    "### Numpy"
   ]
  },
  {
   "cell_type": "markdown",
   "metadata": {},
   "source": [
    "-> Numpy is a highly optimized library for numerical operations.\n",
    "\n",
    "-> array structure is important because digital images are 2D arrays of P-I-X-E-L-S.\n",
    "\n",
    "-> All the OpenCV array structues are converted to-and-from Numpy arrays.\n",
    "\n",
    "-> You can use more convenient indexing system rather than using for loops."
   ]
  },
  {
   "cell_type": "markdown",
   "metadata": {},
   "source": [
    "### Installing OpenCV"
   ]
  },
  {
   "cell_type": "markdown",
   "metadata": {},
   "source": [
    "Step 1 - Open command line prompt by typing cmd in search, and open it.\n",
    "\n",
    "Step 2 - Here check your python version by command:\n",
    "            python --version\n",
    "\n",
    "Step 3 - Now, run command and mention your python version in my case I have 3.8 python version:\n",
    "            py -3.8 -m pip install opencv-python "
   ]
  },
  {
   "cell_type": "code",
   "execution_count": 2,
   "metadata": {},
   "outputs": [],
   "source": [
    "import cv2\n",
    "import numpy"
   ]
  },
  {
   "cell_type": "code",
   "execution_count": 4,
   "metadata": {},
   "outputs": [
    {
     "data": {
      "text/plain": [
       "'4.2.0'"
      ]
     },
     "execution_count": 4,
     "metadata": {},
     "output_type": "execute_result"
    }
   ],
   "source": [
    "# to check  opencv version\n",
    "\n",
    "cv2.__version__"
   ]
  },
  {
   "cell_type": "markdown",
   "metadata": {},
   "source": [
    "### For dataset open: \n",
    "https://github.com/opencv/opencv/tree/master/samples/data\n",
    "https://github.com/opencv/opencv/ ----> clone or download.\n",
    "\n",
    "Then go to Samples-->data--> now we can use datasets of videos and images"
   ]
  },
  {
   "cell_type": "code",
   "execution_count": 1,
   "metadata": {},
   "outputs": [],
   "source": [
    "# how to read images and write images using cv2 package\n",
    "\n",
    "import cv2\n",
    "img = cv2.imread('lena.jpg', -1) #in this function second argument is a flag which can have three values: 0,1,-1, and this argument specifies the way how the image should be read\n",
    "\n",
    "# cv2.IMREAD_COLOR         1     Loads a color image.\n",
    "# cv2.IMREAD_GRAYSCALE     0     Loads image in grayscale mode \n",
    "#cv2.IMREAD_UNCHANGED     -1     Loads image as such including alpha channel\n",
    "\n",
    "#print(img)\n",
    "\n",
    "# to display image use imshow() method\n",
    "cv2.imshow('hello',img)\n",
    "k = cv2.waitKey(0) # it stops the window for specified number of milisecond\n",
    "\n",
    "if k == 27: #27 is value for esc key\n",
    "    cv2.destroyAllWindows() # it destroys all the windows which we have created\n",
    "elif k == ord('s'): # ordinary value for a key mentioned in the paranthesis\n",
    "    # how to write an image in a file using imwrite() function\n",
    "    cv2.imwrite('lena_copy.png', img)\n",
    "    cv2.destroyAllWindows()"
   ]
  }
 ],
 "metadata": {
  "kernelspec": {
   "display_name": "Python 3",
   "language": "python",
   "name": "python3"
  },
  "language_info": {
   "codemirror_mode": {
    "name": "ipython",
    "version": 3
   },
   "file_extension": ".py",
   "mimetype": "text/x-python",
   "name": "python",
   "nbconvert_exporter": "python",
   "pygments_lexer": "ipython3",
   "version": "3.8.3"
  }
 },
 "nbformat": 4,
 "nbformat_minor": 4
}
