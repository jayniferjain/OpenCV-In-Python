{
 "cells": [
  {
   "cell_type": "code",
   "execution_count": 9,
   "metadata": {},
   "outputs": [
    {
     "name": "stdout",
     "output_type": "stream",
     "text": [
      "640.0\n",
      "480.0\n",
      "1280.0\n",
      "720.0\n"
     ]
    }
   ],
   "source": [
    "import cv2\n",
    "cap = cv2.VideoCapture(0)\n",
    "print(cap.get(cv2.CAP_PROP_FRAME_WIDTH)) # 3: every property has a number assigned to it, we can use that number alternatively in place of 'cv2.CAP_PROP_FRAME_WIDTH' this. \n",
    "print(cap.get(cv2.CAP_PROP_FRAME_HEIGHT)) # 4\n",
    "\n",
    "# we can use cap.set() function to set some values to cap variable.\n",
    "cap.set(3, 3000) # this can be also written as -> # cap.set(cv2.CAP_PROP_FRAME_WIDTH, 1208)\n",
    "cap.set(4, 3000) # this can be also written as -> # cap.set(cv2.CAP_PROP_FRAME_HEIGHT, 720)\n",
    "\n",
    "print(cap.get(cv2.CAP_PROP_FRAME_WIDTH)) \n",
    "print(cap.get(cv2.CAP_PROP_FRAME_HEIGHT))\n",
    "\n",
    "while(cap.isOpened()):\n",
    "    ret, frame = cap.read()\n",
    "    \n",
    "    cv2.imshow('frame',frame)\n",
    "    if cv2.waitKey(1) == ord('q'):\n",
    "        break\n",
    "    \n",
    "cap.release() \n",
    "cv2.destroyAllWindows() "
   ]
  },
  {
   "cell_type": "markdown",
   "metadata": {},
   "source": [
    "This is how we can use set method to set some values, so their are many values you can set using the set method. Go to the documentation and then search for the value."
   ]
  }
 ],
 "metadata": {
  "kernelspec": {
   "display_name": "Python 3",
   "language": "python",
   "name": "python3"
  },
  "language_info": {
   "codemirror_mode": {
    "name": "ipython",
    "version": 3
   },
   "file_extension": ".py",
   "mimetype": "text/x-python",
   "name": "python",
   "nbconvert_exporter": "python",
   "pygments_lexer": "ipython3",
   "version": "3.8.3"
  }
 },
 "nbformat": 4,
 "nbformat_minor": 4
}
