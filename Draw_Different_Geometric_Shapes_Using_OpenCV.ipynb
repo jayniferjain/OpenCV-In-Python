{
 "cells": [
  {
   "cell_type": "code",
   "execution_count": 2,
   "metadata": {},
   "outputs": [],
   "source": [
    "# Geometric shapes on an Image\n",
    "\n",
    "import numpy as np\n",
    "import cv2\n",
    "\n",
    "img = cv2.imread('lena.jpg',1)\n",
    "\n",
    "img = cv2.line(img, (0,0), (255,255), (147, 96, 44), 10) # to draw a line\n",
    "img = cv2.arrowedLine(img, (0,255), (255,255), (255, 0, 0), 10) # to draw a Arrowed line\n",
    "img = cv2.rectangle(img, (384, 0), (510, 128), (0, 0, 255), 10) # to draw a ractangel\n",
    "img = cv2.circle(img, (447, 63), 63, (0, 255, 0), -1) # to draw a circle\n",
    "font = cv2.FONT_HERSHEY_SIMPLEX\n",
    "img = cv2.putText(img, 'OpenCv', (10,500), font, 4, (255, 255, 255), 10,cv2.LINE_AA) # To type text\n",
    "\n",
    "cv2.imshow('image',img)\n",
    "\n",
    "cv2.waitKey(0)\n",
    "cv2.destroyAllWindows()"
   ]
  },
  {
   "cell_type": "code",
   "execution_count": 4,
   "metadata": {},
   "outputs": [],
   "source": [
    "# Creating an image using numpy zeros method\n",
    "\n",
    "import numpy as np\n",
    "\n",
    "img = np.zeros([512, 512, 3], np.uint8) # this method is going to give us a black image of size (512, 512)\n",
    "\n",
    "img = cv2.line(img, (0,0), (255,255), (147, 96, 44), 10) # to draw a line\n",
    "img = cv2.arrowedLine(img, (0,255), (255,255), (255, 0, 0), 10) \n",
    "img = cv2.rectangle(img, (384, 0), (510, 128), (0, 0, 255), 10)\n",
    "img = cv2.circle(img, (447, 63), 63, (0, 255, 0), -1) \n",
    "font = cv2.FONT_HERSHEY_SIMPLEX\n",
    "img = cv2.putText(img, 'OpenCv', (10,500), font, 4, (255, 255, 255), 10,cv2.LINE_AA) \n",
    "\n",
    "cv2.imshow('image',img)\n",
    "\n",
    "cv2.waitKey(0)\n",
    "cv2.destroyAllWindows()"
   ]
  },
  {
   "cell_type": "code",
   "execution_count": null,
   "metadata": {},
   "outputs": [],
   "source": [
    "# we can use cv2.polyline() method to draw a polygon and\n",
    "# cv2.eclipse() method to draw an eclipse"
   ]
  }
 ],
 "metadata": {
  "kernelspec": {
   "display_name": "Python 3",
   "language": "python",
   "name": "python3"
  },
  "language_info": {
   "codemirror_mode": {
    "name": "ipython",
    "version": 3
   },
   "file_extension": ".py",
   "mimetype": "text/x-python",
   "name": "python",
   "nbconvert_exporter": "python",
   "pygments_lexer": "ipython3",
   "version": "3.8.3"
  }
 },
 "nbformat": 4,
 "nbformat_minor": 4
}
