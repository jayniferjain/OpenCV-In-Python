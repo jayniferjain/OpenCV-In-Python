{
 "cells": [
  {
   "cell_type": "markdown",
   "metadata": {},
   "source": [
    "Their are many mouse event available in cv2 package."
   ]
  },
  {
   "cell_type": "markdown",
   "metadata": {},
   "source": [
    "### To list out all the mouse events available in cv2 package. "
   ]
  },
  {
   "cell_type": "code",
   "execution_count": 2,
   "metadata": {},
   "outputs": [
    {
     "name": "stdout",
     "output_type": "stream",
     "text": [
      "['EVENT_FLAG_ALTKEY', 'EVENT_FLAG_CTRLKEY', 'EVENT_FLAG_LBUTTON', 'EVENT_FLAG_MBUTTON', 'EVENT_FLAG_RBUTTON', 'EVENT_FLAG_SHIFTKEY', 'EVENT_LBUTTONDBLCLK', 'EVENT_LBUTTONDOWN', 'EVENT_LBUTTONUP', 'EVENT_MBUTTONDBLCLK', 'EVENT_MBUTTONDOWN', 'EVENT_MBUTTONUP', 'EVENT_MOUSEHWHEEL', 'EVENT_MOUSEMOVE', 'EVENT_MOUSEWHEEL', 'EVENT_RBUTTONDBLCLK', 'EVENT_RBUTTONDOWN', 'EVENT_RBUTTONUP']\n"
     ]
    }
   ],
   "source": [
    "import cv2\n",
    "\n",
    "events = [i for i in dir(cv2) if 'EVENT' in i]\n",
    "print(events)"
   ]
  },
  {
   "cell_type": "markdown",
   "metadata": {},
   "source": [
    "### Create mouse event on a plain black image."
   ]
  },
  {
   "cell_type": "code",
   "execution_count": 8,
   "metadata": {},
   "outputs": [],
   "source": [
    "import numpy as np\n",
    "import cv2\n",
    "\n",
    "# Firstly, I'll create a mouse call-back function which is executed when mouse event takes place.\n",
    "\n",
    "def ClickEvent(event, x, y, flags, param): # these parameters are only used\n",
    "    if event == cv2.EVENT_LBUTTONDOWN:\n",
    "        print(x, \", \" ,y)\n",
    "        font = cv2.FONT_HERSHEY_SIMPLEX\n",
    "        strXY = str(x) + \", \" + str(y)\n",
    "        cv2.putText(img, strXY, (x, y), font, .5, (255,255,0), 2)\n",
    "        cv2.imshow('image', img)\n",
    "        \n",
    "    if event == cv2.EVENT_RBUTTONDOWN:\n",
    "        blue = img[y, x, 0]\n",
    "        green = img[y, x, 1]\n",
    "        red = img[y, x, 2]\n",
    "        font = cv2.FONT_HERSHEY_SIMPLEX\n",
    "        strBGR = str(blue) + \", \" + str(green) + \", \" + str(red)\n",
    "        cv2.putText(img, strBGR, (x, y), font, .5, (0,255,255), 2)\n",
    "        cv2.imshow('image', img)\n",
    "        \n",
    "img = np.zeros((512,512,3), np.uint8)\n",
    "cv2.imshow('image', img)\n",
    "\n",
    "cv2.setMouseCallback('image', ClickEvent)\n",
    "\n",
    "cv2.waitKey(0)\n",
    "cv2.destroyAllWindows()"
   ]
  },
  {
   "cell_type": "markdown",
   "metadata": {},
   "source": [
    "### Create mouse event on an already stored image."
   ]
  },
  {
   "cell_type": "code",
   "execution_count": 9,
   "metadata": {},
   "outputs": [
    {
     "name": "stdout",
     "output_type": "stream",
     "text": [
      "258 ,  121\n",
      "192 ,  245\n",
      "372 ,  37\n",
      "359 ,  25\n",
      "76 ,  21\n",
      "98 ,  93\n"
     ]
    }
   ],
   "source": [
    "import numpy as np\n",
    "import cv2\n",
    "\n",
    "# Firstly, I'll create a mouse call-back function which is executed when mouse event takes place.\n",
    "\n",
    "def ClickEvent(event, x, y, flags, param): # these parameters are only used\n",
    "    if event == cv2.EVENT_LBUTTONDOWN:\n",
    "        print(x, \", \" ,y)\n",
    "        font = cv2.FONT_HERSHEY_SIMPLEX\n",
    "        strXY = str(x) + \", \" + str(y)\n",
    "        cv2.putText(img, strXY, (x, y), font, .5, (255,255,0), 2)\n",
    "        cv2.imshow('image', img)\n",
    "        \n",
    "    if event == cv2.EVENT_RBUTTONDOWN:\n",
    "        blue = img[y, x, 0]\n",
    "        green = img[y, x, 1]\n",
    "        red = img[y, x, 2]\n",
    "        font = cv2.FONT_HERSHEY_SIMPLEX\n",
    "        strBGR = str(blue) + \", \" + str(green) + \", \" + str(red)\n",
    "        cv2.putText(img, strBGR, (x, y), font, .5, (0,255,255), 2)\n",
    "        cv2.imshow('image', img)\n",
    "        \n",
    "img = cv2.imread('lena.jpg')\n",
    "cv2.imshow('image', img)\n",
    "\n",
    "cv2.setMouseCallback('image', ClickEvent)\n",
    "\n",
    "cv2.waitKey(0)\n",
    "cv2.destroyAllWindows()"
   ]
  }
 ],
 "metadata": {
  "kernelspec": {
   "display_name": "Python 3",
   "language": "python",
   "name": "python3"
  },
  "language_info": {
   "codemirror_mode": {
    "name": "ipython",
    "version": 3
   },
   "file_extension": ".py",
   "mimetype": "text/x-python",
   "name": "python",
   "nbconvert_exporter": "python",
   "pygments_lexer": "ipython3",
   "version": "3.8.3"
  }
 },
 "nbformat": 4,
 "nbformat_minor": 4
}
